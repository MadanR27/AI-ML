{
 "cells": [
  {
   "cell_type": "code",
   "execution_count": 12,
   "id": "d4acc591-66a9-43b9-b4a6-0c02c5c530e3",
   "metadata": {},
   "outputs": [],
   "source": [
    "import pandas as pd "
   ]
  },
  {
   "cell_type": "code",
   "execution_count": 17,
   "id": "3440cf2d-0c0a-47ca-9f27-1cf30d9834ee",
   "metadata": {},
   "outputs": [
    {
     "data": {
      "text/html": [
       "<div>\n",
       "<style scoped>\n",
       "    .dataframe tbody tr th:only-of-type {\n",
       "        vertical-align: middle;\n",
       "    }\n",
       "\n",
       "    .dataframe tbody tr th {\n",
       "        vertical-align: top;\n",
       "    }\n",
       "\n",
       "    .dataframe thead th {\n",
       "        text-align: right;\n",
       "    }\n",
       "</style>\n",
       "<table border=\"1\" class=\"dataframe\">\n",
       "  <thead>\n",
       "    <tr style=\"text-align: right;\">\n",
       "      <th></th>\n",
       "      <th>Ename</th>\n",
       "      <th>Type</th>\n",
       "      <th>Department</th>\n",
       "      <th>Experienc</th>\n",
       "      <th>Salary</th>\n",
       "    </tr>\n",
       "  </thead>\n",
       "  <tbody>\n",
       "    <tr>\n",
       "      <th>0</th>\n",
       "      <td>roshan</td>\n",
       "      <td>Regular</td>\n",
       "      <td>CS</td>\n",
       "      <td>10</td>\n",
       "      <td>50000</td>\n",
       "    </tr>\n",
       "    <tr>\n",
       "      <th>1</th>\n",
       "      <td>amar</td>\n",
       "      <td>Adhoc</td>\n",
       "      <td>CS</td>\n",
       "      <td>20</td>\n",
       "      <td>15000</td>\n",
       "    </tr>\n",
       "    <tr>\n",
       "      <th>2</th>\n",
       "      <td>ashwini</td>\n",
       "      <td>Regular</td>\n",
       "      <td>EC</td>\n",
       "      <td>4</td>\n",
       "      <td>30000</td>\n",
       "    </tr>\n",
       "    <tr>\n",
       "      <th>3</th>\n",
       "      <td>lohith</td>\n",
       "      <td>Adhoc</td>\n",
       "      <td>EC</td>\n",
       "      <td>14</td>\n",
       "      <td>15000</td>\n",
       "    </tr>\n",
       "    <tr>\n",
       "      <th>4</th>\n",
       "      <td>mohan</td>\n",
       "      <td>Contract</td>\n",
       "      <td>CS</td>\n",
       "      <td>9</td>\n",
       "      <td>10000</td>\n",
       "    </tr>\n",
       "    <tr>\n",
       "      <th>5</th>\n",
       "      <td>pramod</td>\n",
       "      <td>Regular</td>\n",
       "      <td>EC</td>\n",
       "      <td>8</td>\n",
       "      <td>40000</td>\n",
       "    </tr>\n",
       "  </tbody>\n",
       "</table>\n",
       "</div>"
      ],
      "text/plain": [
       "     Ename      Type Department  Experienc  Salary\n",
       "0   roshan   Regular         CS         10   50000\n",
       "1     amar     Adhoc         CS         20   15000\n",
       "2  ashwini   Regular         EC          4   30000\n",
       "3   lohith     Adhoc         EC         14   15000\n",
       "4    mohan  Contract         CS          9   10000\n",
       "5   pramod   Regular         EC          8   40000"
      ]
     },
     "execution_count": 17,
     "metadata": {},
     "output_type": "execute_result"
    }
   ],
   "source": [
    "data = {\n",
    "    \"Ename\" : ['roshan','amar','ashwini','lohith','mohan','pramod'],\n",
    "    \"Type\" : ['Regular','Adhoc','Regular','Adhoc','Contract','Regular'],\n",
    "    \"Department\" : ['CS','CS','EC','EC','CS','EC'],\n",
    "    \"Experienc\" : [10,20,4,14,9,8],\n",
    "    \"Salary\" : [50000,15000,30000,15000,10000,40000]\n",
    "}\n",
    "df=pd.DataFrame(data)\n",
    "df"
   ]
  },
  {
   "cell_type": "code",
   "execution_count": 20,
   "id": "8c520e76-73a9-44ef-b22f-60b88aae856b",
   "metadata": {},
   "outputs": [
    {
     "data": {
      "text/html": [
       "<div>\n",
       "<style scoped>\n",
       "    .dataframe tbody tr th:only-of-type {\n",
       "        vertical-align: middle;\n",
       "    }\n",
       "\n",
       "    .dataframe tbody tr th {\n",
       "        vertical-align: top;\n",
       "    }\n",
       "\n",
       "    .dataframe thead th {\n",
       "        text-align: right;\n",
       "    }\n",
       "</style>\n",
       "<table border=\"1\" class=\"dataframe\">\n",
       "  <thead>\n",
       "    <tr style=\"text-align: right;\">\n",
       "      <th></th>\n",
       "      <th>Ename</th>\n",
       "      <th>Type</th>\n",
       "      <th>Department</th>\n",
       "      <th>Experienc</th>\n",
       "      <th>Salary</th>\n",
       "    </tr>\n",
       "  </thead>\n",
       "  <tbody>\n",
       "    <tr>\n",
       "      <th>0</th>\n",
       "      <td>roshan</td>\n",
       "      <td>Regular</td>\n",
       "      <td>CS</td>\n",
       "      <td>10</td>\n",
       "      <td>50000</td>\n",
       "    </tr>\n",
       "    <tr>\n",
       "      <th>2</th>\n",
       "      <td>ashwini</td>\n",
       "      <td>Regular</td>\n",
       "      <td>EC</td>\n",
       "      <td>4</td>\n",
       "      <td>30000</td>\n",
       "    </tr>\n",
       "    <tr>\n",
       "      <th>5</th>\n",
       "      <td>pramod</td>\n",
       "      <td>Regular</td>\n",
       "      <td>EC</td>\n",
       "      <td>8</td>\n",
       "      <td>40000</td>\n",
       "    </tr>\n",
       "  </tbody>\n",
       "</table>\n",
       "</div>"
      ],
      "text/plain": [
       "     Ename     Type Department  Experienc  Salary\n",
       "0   roshan  Regular         CS         10   50000\n",
       "2  ashwini  Regular         EC          4   30000\n",
       "5   pramod  Regular         EC          8   40000"
      ]
     },
     "execution_count": 20,
     "metadata": {},
     "output_type": "execute_result"
    }
   ],
   "source": [
    "regular=df[df['Type']=='Regular']\n",
    "regular"
   ]
  },
  {
   "cell_type": "code",
   "execution_count": 21,
   "id": "eef2178f-c708-47fc-8222-47cd8ad70a5e",
   "metadata": {},
   "outputs": [
    {
     "data": {
      "text/plain": [
       "np.float64(40000.0)"
      ]
     },
     "execution_count": 21,
     "metadata": {},
     "output_type": "execute_result"
    }
   ],
   "source": [
    "Regular=regular['Salary'].mean()\n",
    "Regular"
   ]
  },
  {
   "cell_type": "code",
   "execution_count": 22,
   "id": "3e660671-61ae-41ee-b9ec-375b9c2fa0bd",
   "metadata": {},
   "outputs": [
    {
     "data": {
      "text/plain": [
       "Type\n",
       "Regular     3\n",
       "Adhoc       2\n",
       "Contract    1\n",
       "Name: count, dtype: int64"
      ]
     },
     "execution_count": 22,
     "metadata": {},
     "output_type": "execute_result"
    }
   ],
   "source": [
    "count=df['Type'].value_counts()\n",
    "count"
   ]
  },
  {
   "cell_type": "code",
   "execution_count": null,
   "id": "7ef0c326-a163-4c4c-a189-e4ed49e72659",
   "metadata": {},
   "outputs": [],
   "source": []
  }
 ],
 "metadata": {
  "kernelspec": {
   "display_name": "Python 3 (ipykernel)",
   "language": "python",
   "name": "python3"
  },
  "language_info": {
   "codemirror_mode": {
    "name": "ipython",
    "version": 3
   },
   "file_extension": ".py",
   "mimetype": "text/x-python",
   "name": "python",
   "nbconvert_exporter": "python",
   "pygments_lexer": "ipython3",
   "version": "3.13.5"
  }
 },
 "nbformat": 4,
 "nbformat_minor": 5
}
