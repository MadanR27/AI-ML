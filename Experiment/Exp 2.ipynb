{
 "cells": [
  {
   "cell_type": "markdown",
   "id": "934379a5-4aef-40e4-a1c1-3c267f170618",
   "metadata": {
    "jp-MarkdownHeadingCollapsed": true
   },
   "source": [
    "# --------------Experiment-2---------------"
   ]
  },
  {
   "cell_type": "markdown",
   "id": "f0d5bc6d-dd2b-4960-b271-73d88cb7ae4e",
   "metadata": {},
   "source": [
    "# 2.A. Using Numpy module perform the following operations"
   ]
  },
  {
   "cell_type": "markdown",
   "id": "52adb0d6-db31-418a-af44-80f3b3eafa0f",
   "metadata": {},
   "source": [
    "## i) Demonstrate Array Aggregation Functions\n",
    "## ii) Demonstrate Vectorised Operations\n",
    "## iii) Demonstrate Map, Filter, Reduce & Lambda"
   ]
  },
  {
   "cell_type": "markdown",
   "id": "3e272e8e-3963-4a18-98f7-b25d9fce3c14",
   "metadata": {},
   "source": [
    "# 2.B. Using Pandas module perform the following operations"
   ]
  },
  {
   "cell_type": "markdown",
   "id": "9d058d98-f681-4529-92f5-c6273d2bba9f",
   "metadata": {},
   "source": [
    "## i) Aggregation & Grouping\n",
    "## ii) Time Series Operations\n",
    "## iii) Pivot & Melt Functions\n",
    "## iv) Demonstrate Pandas Map, Filter, Reduce & Lambda with DataFrames"
   ]
  },
  {
   "cell_type": "markdown",
   "id": "b125bc86-eeba-49b3-b2d8-2eeb47cd8f8e",
   "metadata": {},
   "source": [
    "# i) Numpy Array Aggregation Functions"
   ]
  },
  {
   "cell_type": "code",
   "execution_count": 1,
   "id": "66d521e8-6108-408f-8015-d26f5e384bb5",
   "metadata": {},
   "outputs": [
    {
     "name": "stdout",
     "output_type": "stream",
     "text": [
      "Sum: 150\n",
      "Mean: 30.0\n",
      "Max: 50\n",
      "Min: 10\n",
      "Min: 30.0\n",
      "Standard Deviation: 14.142135623730951\n"
     ]
    }
   ],
   "source": [
    "import numpy as np\n",
    "\n",
    "arr = np.array([10, 20, 30, 40, 50])\n",
    "\n",
    "print(\"Sum:\", np.sum(arr))       # total\n",
    "print(\"Mean:\", np.mean(arr))     # average\n",
    "print(\"Max:\", np.max(arr))       # highest\n",
    "print(\"Min:\", np.min(arr))       # lowest\n",
    "print(\"Min:\", np.median(arr))       # Middle\n",
    "print(\"Standard Deviation:\", np.std(arr))  # spread of data\n"
   ]
  },
  {
   "cell_type": "markdown",
   "id": "d1a10f93-340d-4e41-9373-c842be72c5fb",
   "metadata": {},
   "source": [
    "# ii) Numpy Vectorised Operations"
   ]
  },
  {
   "cell_type": "code",
   "execution_count": 2,
   "id": "bacef9fd-5b5c-407a-97e2-68bb2eb69ccf",
   "metadata": {},
   "outputs": [
    {
     "name": "stdout",
     "output_type": "stream",
     "text": [
      "Addition: [11 22 33 44]\n",
      "Subtraction: [ 9 18 27 36]\n",
      "Multiplication: [ 10  40  90 160]\n",
      "Division: [10. 10. 10. 10.]\n"
     ]
    }
   ],
   "source": [
    "arr1 = np.array([1, 2, 3, 4])\n",
    "arr2 = np.array([10, 20, 30, 40])\n",
    "\n",
    "print(\"Addition:\", arr1 + arr2)\n",
    "print(\"Subtraction:\", arr2 - arr1)\n",
    "print(\"Multiplication:\", arr1 * arr2)\n",
    "print(\"Division:\", arr2 / arr1)\n"
   ]
  },
  {
   "cell_type": "markdown",
   "id": "3cddafeb-f29e-4828-b9a2-02b3af1101ec",
   "metadata": {},
   "source": [
    "# iii) Numpy Map, Filter, Reduce & Lambda\n",
    "\n",
    "#### 👉 These are functional programming tools used with lists/arrays.\n",
    "\n",
    "#### map → apply a function to each item\n",
    "\n",
    "#### filter → keep only items that match a condition\n",
    "\n",
    "#### reduce → repeatedly apply a function to get a single value\n",
    "\n",
    "#### lambda → write a quick mini function without a name"
   ]
  },
  {
   "cell_type": "code",
   "execution_count": 3,
   "id": "2caa06e0-0ec0-4498-8ae6-a946151981c2",
   "metadata": {},
   "outputs": [
    {
     "name": "stdout",
     "output_type": "stream",
     "text": [
      "Squared: [1, 4, 9, 16, 25]\n",
      "Evens: [2, 4]\n",
      "Product: 120\n"
     ]
    }
   ],
   "source": [
    "from functools import reduce\n",
    "\n",
    "numbers = [1, 2, 3, 4, 5]\n",
    "\n",
    "# map: square each number\n",
    "squared = list(map(lambda x: x**2, numbers))\n",
    "\n",
    "# filter: keep only even numbers\n",
    "evens = list(filter(lambda x: x % 2 == 0, numbers))\n",
    "\n",
    "# reduce: multiply all numbers\n",
    "product = reduce(lambda x, y: x * y, numbers)\n",
    "\n",
    "print(\"Squared:\", squared)\n",
    "print(\"Evens:\", evens)\n",
    "print(\"Product:\", product)\n"
   ]
  },
  {
   "cell_type": "markdown",
   "id": "7b927915-b186-405b-9426-9a77658699ef",
   "metadata": {},
   "source": [
    "# i) Pandas Aggregation & Grouping"
   ]
  },
  {
   "cell_type": "code",
   "execution_count": 4,
   "id": "0b4b572e-5336-4845-a8b8-8e5e5ddaaf2a",
   "metadata": {},
   "outputs": [
    {
     "name": "stdout",
     "output_type": "stream",
     "text": [
      "Total Price: 330\n",
      "Average Price: 66.0\n",
      "\n",
      "Group by Category:\n",
      "Category\n",
      "Fruit    240\n",
      "Veg       90\n",
      "Name: Price, dtype: int64\n"
     ]
    }
   ],
   "source": [
    "import pandas as pd\n",
    "\n",
    "# Sample data\n",
    "data = {\n",
    "    'Category': ['Fruit', 'Fruit', 'Veg', 'Veg', 'Fruit'],\n",
    "    'Item': ['Apple', 'Banana', 'Carrot', 'Potato', 'Mango'],\n",
    "    'Price': [100, 80, 50, 40, 60]\n",
    "}\n",
    "df = pd.DataFrame(data)\n",
    "\n",
    "# Aggregation\n",
    "print(\"Total Price:\", df['Price'].sum())\n",
    "print(\"Average Price:\", df['Price'].mean())\n",
    "\n",
    "# Grouping + Aggregation\n",
    "print(\"\\nGroup by Category:\")\n",
    "print(df.groupby('Category')['Price'].sum())\n"
   ]
  },
  {
   "cell_type": "markdown",
   "id": "13dd5975-0227-421e-8440-62260df1a9eb",
   "metadata": {},
   "source": [
    "# ii) Pandas Time Series Operations\n",
    "\n",
    "#### 👉 A time series is data with dates/times as the index.\n",
    "#### Example: stock prices every day, weather every hour."
   ]
  },
  {
   "cell_type": "code",
   "execution_count": 5,
   "id": "a38c805f-8305-4ab3-9048-12d1433bfc68",
   "metadata": {},
   "outputs": [
    {
     "name": "stdout",
     "output_type": "stream",
     "text": [
      "Original Data:\n",
      "            Sales\n",
      "Date             \n",
      "2025-09-01    100\n",
      "2025-09-02    150\n",
      "2025-09-03    200\n",
      "2025-09-04    250\n",
      "2025-09-05    300\n",
      "\n",
      "Weekly Sales (Sum):\n",
      "            Sales\n",
      "Date             \n",
      "2025-09-07   1000\n",
      "\n",
      "3-Day Moving Average:\n",
      "Date\n",
      "2025-09-01      NaN\n",
      "2025-09-02      NaN\n",
      "2025-09-03    150.0\n",
      "2025-09-04    200.0\n",
      "2025-09-05    250.0\n",
      "Name: Sales, dtype: float64\n"
     ]
    }
   ],
   "source": [
    "# Create time series data\n",
    "dates = pd.date_range(\"2025-09-01\", periods=5, freq=\"D\")\n",
    "sales = [100, 150, 200, 250, 300]\n",
    "df = pd.DataFrame({\"Date\": dates, \"Sales\": sales})\n",
    "df.set_index(\"Date\", inplace=True)\n",
    "\n",
    "print(\"Original Data:\")\n",
    "print(df)\n",
    "\n",
    "# Resample: Weekly sum\n",
    "print(\"\\nWeekly Sales (Sum):\")\n",
    "print(df.resample(\"W\").sum())\n",
    "\n",
    "# Rolling average (3-day moving average)\n",
    "print(\"\\n3-Day Moving Average:\")\n",
    "print(df['Sales'].rolling(3).mean())\n"
   ]
  },
  {
   "cell_type": "markdown",
   "id": "0a664596-873b-40cb-b732-3ab8c2619c43",
   "metadata": {},
   "source": [
    "# iii) Pandas Pivot & Melt Functions\n",
    "\n",
    "#### 👉 Pivot → Reshape data into a table format (like Excel pivot tables).\n",
    "#### 👉 Melt → Opposite of pivot → turn columns back into rows."
   ]
  },
  {
   "cell_type": "code",
   "execution_count": 6,
   "id": "6ae7cbd0-fb89-4f76-9019-930a64dca2b2",
   "metadata": {},
   "outputs": [
    {
     "name": "stdout",
     "output_type": "stream",
     "text": [
      "Pivot Table:\n",
      "Item        Apple  Banana\n",
      "Date                     \n",
      "2025-09-01     50      60\n",
      "2025-09-02     70      80\n",
      "\n",
      "Melted Table:\n",
      "         Date    Item  Sales\n",
      "0  2025-09-01   Apple     50\n",
      "1  2025-09-02   Apple     70\n",
      "2  2025-09-01  Banana     60\n",
      "3  2025-09-02  Banana     80\n"
     ]
    }
   ],
   "source": [
    "data = {\n",
    "    'Date': ['2025-09-01', '2025-09-01', '2025-09-02', '2025-09-02'],\n",
    "    'Item': ['Apple', 'Banana', 'Apple', 'Banana'],\n",
    "    'Sales': [50, 60, 70, 80]\n",
    "}\n",
    "df = pd.DataFrame(data)\n",
    "\n",
    "# Pivot\n",
    "pivot_df = df.pivot(index='Date', columns='Item', values='Sales')\n",
    "print(\"Pivot Table:\")\n",
    "print(pivot_df)\n",
    "\n",
    "# Melt (reverse of pivot)\n",
    "melt_df = pivot_df.reset_index().melt(id_vars='Date', value_vars=['Apple', 'Banana'], var_name='Item', value_name='Sales')\n",
    "print(\"\\nMelted Table:\")\n",
    "print(melt_df)\n"
   ]
  },
  {
   "cell_type": "markdown",
   "id": "0c8cba62-387f-4ecc-ad94-ff530f0ac0ff",
   "metadata": {},
   "source": [
    "# iv) Pandas Map, Filter, Reduce & Lambda with DataFrames"
   ]
  },
  {
   "cell_type": "code",
   "execution_count": 7,
   "id": "e43df412-ee23-4bc2-984b-b1f49020827a",
   "metadata": {},
   "outputs": [
    {
     "name": "stdout",
     "output_type": "stream",
     "text": [
      "With Map:\n",
      "       Name  Marks  Double Marks\n",
      "0    Alice     90           180\n",
      "1      Bob     80           160\n",
      "2  Charlie     95           190\n",
      "\n",
      "Filtered (Marks > 85):\n",
      "       Name  Marks  Double Marks\n",
      "0    Alice     90           180\n",
      "2  Charlie     95           190\n",
      "\n",
      "Total Marks (Reduce): 265\n"
     ]
    }
   ],
   "source": [
    "from functools import reduce\n",
    "\n",
    "df = pd.DataFrame({\n",
    "    \"Name\": [\"Alice\", \"Bob\", \"Charlie\"],\n",
    "    \"Marks\": [90, 80, 95]\n",
    "})\n",
    "\n",
    "# Map: apply function to a column\n",
    "df[\"Double Marks\"] = df[\"Marks\"].map(lambda x: x * 2)\n",
    "\n",
    "# Filter: select rows with condition\n",
    "filtered = df[df[\"Marks\"] > 85]\n",
    "\n",
    "# Reduce: combine all marks into one (sum)\n",
    "total_marks = reduce(lambda x, y: x + y, df[\"Marks\"])\n",
    "\n",
    "print(\"With Map:\\n\", df)\n",
    "print(\"\\nFiltered (Marks > 85):\\n\", filtered)\n",
    "print(\"\\nTotal Marks (Reduce):\", total_marks)\n"
   ]
  },
  {
   "cell_type": "code",
   "execution_count": null,
   "id": "e1732bae-32f7-46ac-8788-77d6458fc0dd",
   "metadata": {},
   "outputs": [],
   "source": []
  }
 ],
 "metadata": {
  "kernelspec": {
   "display_name": "Python 3 (ipykernel)",
   "language": "python",
   "name": "python3"
  },
  "language_info": {
   "codemirror_mode": {
    "name": "ipython",
    "version": 3
   },
   "file_extension": ".py",
   "mimetype": "text/x-python",
   "name": "python",
   "nbconvert_exporter": "python",
   "pygments_lexer": "ipython3",
   "version": "3.13.7"
  },
  "widgets": {
   "application/vnd.jupyter.widget-state+json": {
    "state": {},
    "version_major": 2,
    "version_minor": 0
   }
  }
 },
 "nbformat": 4,
 "nbformat_minor": 5
}
