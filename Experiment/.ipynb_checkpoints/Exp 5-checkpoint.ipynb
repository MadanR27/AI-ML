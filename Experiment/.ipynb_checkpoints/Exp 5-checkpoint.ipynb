{
 "cells": [
  {
   "cell_type": "markdown",
   "id": "fabe7e33-8e58-446c-98bd-d1a6d1ce73b2",
   "metadata": {},
   "source": [
    "# Experiment 5"
   ]
  },
  {
   "cell_type": "markdown",
   "id": "e8206eb7-2e10-479a-8089-677c5f7ca063",
   "metadata": {},
   "source": [
    "## a) Consider Titanic dataset & handle the missing values using different methods.\n",
    "## b) Consider Titanic (or any other dataset) & detect the outliers & handle the outerliers\n",
    "## c)Consider any relevant dataset and perform Data transformation operations\n",
    "## d)Consider any relevant dataset and perform Data Integration operations"
   ]
  },
  {
   "cell_type": "markdown",
   "id": "e31f8747-fb24-4dde-8d3a-d36c041ab52f",
   "metadata": {},
   "source": [
    "# a) Consider Titanic dataset & handle the missing values using different methods.\n"
   ]
  },
  {
   "cell_type": "code",
   "execution_count": 1,
   "id": "55f3eb7d-0e95-4317-81fd-11f9383288ec",
   "metadata": {},
   "outputs": [],
   "source": [
    "import pandas as pd \n",
    "import numpy as np \n",
    "import matplotlib.pyplot as plt"
   ]
  },
  {
   "cell_type": "code",
   "execution_count": 2,
   "id": "5b3a8bae-bfa0-491d-9f0f-2e224b9ea43d",
   "metadata": {},
   "outputs": [
    {
     "data": {
      "text/html": [
       "<div>\n",
       "<style scoped>\n",
       "    .dataframe tbody tr th:only-of-type {\n",
       "        vertical-align: middle;\n",
       "    }\n",
       "\n",
       "    .dataframe tbody tr th {\n",
       "        vertical-align: top;\n",
       "    }\n",
       "\n",
       "    .dataframe thead th {\n",
       "        text-align: right;\n",
       "    }\n",
       "</style>\n",
       "<table border=\"1\" class=\"dataframe\">\n",
       "  <thead>\n",
       "    <tr style=\"text-align: right;\">\n",
       "      <th></th>\n",
       "      <th>survived</th>\n",
       "      <th>pclass</th>\n",
       "      <th>sex</th>\n",
       "      <th>age</th>\n",
       "      <th>sibsp</th>\n",
       "      <th>parch</th>\n",
       "      <th>fare</th>\n",
       "      <th>embarked</th>\n",
       "      <th>class</th>\n",
       "      <th>who</th>\n",
       "      <th>adult_male</th>\n",
       "      <th>deck</th>\n",
       "      <th>embark_town</th>\n",
       "      <th>alive</th>\n",
       "      <th>alone</th>\n",
       "    </tr>\n",
       "  </thead>\n",
       "  <tbody>\n",
       "    <tr>\n",
       "      <th>0</th>\n",
       "      <td>0</td>\n",
       "      <td>3.0</td>\n",
       "      <td>male</td>\n",
       "      <td>22.0</td>\n",
       "      <td>1</td>\n",
       "      <td>0</td>\n",
       "      <td>7.2500</td>\n",
       "      <td>S</td>\n",
       "      <td>Third</td>\n",
       "      <td>man</td>\n",
       "      <td>True</td>\n",
       "      <td>NaN</td>\n",
       "      <td>Southampton</td>\n",
       "      <td>no</td>\n",
       "      <td>False</td>\n",
       "    </tr>\n",
       "    <tr>\n",
       "      <th>1</th>\n",
       "      <td>1</td>\n",
       "      <td>1.0</td>\n",
       "      <td>female</td>\n",
       "      <td>38.0</td>\n",
       "      <td>1</td>\n",
       "      <td>0</td>\n",
       "      <td>71.2833</td>\n",
       "      <td>C</td>\n",
       "      <td>First</td>\n",
       "      <td>woman</td>\n",
       "      <td>False</td>\n",
       "      <td>C</td>\n",
       "      <td>Cherbourg</td>\n",
       "      <td>yes</td>\n",
       "      <td>False</td>\n",
       "    </tr>\n",
       "    <tr>\n",
       "      <th>2</th>\n",
       "      <td>1</td>\n",
       "      <td>NaN</td>\n",
       "      <td>female</td>\n",
       "      <td>26.0</td>\n",
       "      <td>0</td>\n",
       "      <td>0</td>\n",
       "      <td>7.9250</td>\n",
       "      <td>S</td>\n",
       "      <td>Third</td>\n",
       "      <td>woman</td>\n",
       "      <td>False</td>\n",
       "      <td>NaN</td>\n",
       "      <td>Southampton</td>\n",
       "      <td>yes</td>\n",
       "      <td>True</td>\n",
       "    </tr>\n",
       "    <tr>\n",
       "      <th>3</th>\n",
       "      <td>1</td>\n",
       "      <td>1.0</td>\n",
       "      <td>female</td>\n",
       "      <td>35.0</td>\n",
       "      <td>1</td>\n",
       "      <td>0</td>\n",
       "      <td>53.1000</td>\n",
       "      <td>S</td>\n",
       "      <td>First</td>\n",
       "      <td>woman</td>\n",
       "      <td>False</td>\n",
       "      <td>C</td>\n",
       "      <td>Southampton</td>\n",
       "      <td>yes</td>\n",
       "      <td>False</td>\n",
       "    </tr>\n",
       "    <tr>\n",
       "      <th>4</th>\n",
       "      <td>0</td>\n",
       "      <td>3.0</td>\n",
       "      <td>male</td>\n",
       "      <td>NaN</td>\n",
       "      <td>0</td>\n",
       "      <td>0</td>\n",
       "      <td>8.0500</td>\n",
       "      <td>S</td>\n",
       "      <td>Third</td>\n",
       "      <td>man</td>\n",
       "      <td>True</td>\n",
       "      <td>NaN</td>\n",
       "      <td>Southampton</td>\n",
       "      <td>no</td>\n",
       "      <td>True</td>\n",
       "    </tr>\n",
       "  </tbody>\n",
       "</table>\n",
       "</div>"
      ],
      "text/plain": [
       "   survived  pclass     sex   age  sibsp  parch     fare embarked  class  \\\n",
       "0         0     3.0    male  22.0      1      0   7.2500        S  Third   \n",
       "1         1     1.0  female  38.0      1      0  71.2833        C  First   \n",
       "2         1     NaN  female  26.0      0      0   7.9250        S  Third   \n",
       "3         1     1.0  female  35.0      1      0  53.1000        S  First   \n",
       "4         0     3.0    male   NaN      0      0   8.0500        S  Third   \n",
       "\n",
       "     who  adult_male deck  embark_town alive  alone  \n",
       "0    man        True  NaN  Southampton    no  False  \n",
       "1  woman       False    C    Cherbourg   yes  False  \n",
       "2  woman       False  NaN  Southampton   yes   True  \n",
       "3  woman       False    C  Southampton   yes  False  \n",
       "4    man        True  NaN  Southampton    no   True  "
      ]
     },
     "execution_count": 2,
     "metadata": {},
     "output_type": "execute_result"
    }
   ],
   "source": [
    "df = pd.read_csv(\"D:/CSV file/titanic.csv\")\n",
    "df1 = pd.read_csv(\"D:/CSV file/titanic.csv\")\n",
    "df2 = pd.read_csv(\"D:/CSV file/titanic.csv\")\n",
    "df3 = pd.read_csv(\"D:/CSV file/titanic.csv\")\n",
    "df.head()"
   ]
  },
  {
   "cell_type": "markdown",
   "id": "9f54438e-7a34-4174-ab44-a39614fae7c8",
   "metadata": {},
   "source": [
    "### Check missing values"
   ]
  },
  {
   "cell_type": "code",
   "execution_count": 3,
   "id": "38113cbb-6e40-413c-b0e2-36ada2b0c13e",
   "metadata": {},
   "outputs": [
    {
     "name": "stdout",
     "output_type": "stream",
     "text": [
      "survived         0\n",
      "pclass           3\n",
      "sex              0\n",
      "age              3\n",
      "sibsp            0\n",
      "parch            0\n",
      "fare             0\n",
      "embarked         2\n",
      "class            0\n",
      "who              0\n",
      "adult_male       0\n",
      "deck           688\n",
      "embark_town      0\n",
      "alive            0\n",
      "alone            0\n",
      "dtype: int64\n"
     ]
    }
   ],
   "source": [
    "print(df.isnull().sum())"
   ]
  },
  {
   "cell_type": "markdown",
   "id": "0050999e-8e05-446d-bf85-cf4dcc8e87aa",
   "metadata": {},
   "source": [
    "### Droping Null Values."
   ]
  },
  {
   "cell_type": "code",
   "execution_count": 4,
   "id": "52e9efba-995a-4182-92f2-dae6c1ceb862",
   "metadata": {},
   "outputs": [],
   "source": [
    "df = df.dropna()"
   ]
  },
  {
   "cell_type": "code",
   "execution_count": 5,
   "id": "b30e74a2-ff55-4890-820f-b9fea28e392f",
   "metadata": {},
   "outputs": [
    {
     "name": "stdout",
     "output_type": "stream",
     "text": [
      "survived       0\n",
      "pclass         0\n",
      "sex            0\n",
      "age            0\n",
      "sibsp          0\n",
      "parch          0\n",
      "fare           0\n",
      "embarked       0\n",
      "class          0\n",
      "who            0\n",
      "adult_male     0\n",
      "deck           0\n",
      "embark_town    0\n",
      "alive          0\n",
      "alone          0\n",
      "dtype: int64\n"
     ]
    }
   ],
   "source": [
    "print(df.isnull().sum())"
   ]
  },
  {
   "cell_type": "markdown",
   "id": "3d7ccd75-2fed-4f62-98c6-2b676c4d8019",
   "metadata": {},
   "source": [
    "### Fill with mean/median (for numbers).\n",
    "\n"
   ]
  },
  {
   "cell_type": "code",
   "execution_count": 6,
   "id": "b85dfc38-b41e-4720-89e3-7c650f6787a8",
   "metadata": {},
   "outputs": [],
   "source": [
    "df1['age'] = df1['age'].fillna(df1['age'].mean())"
   ]
  },
  {
   "cell_type": "code",
   "execution_count": 7,
   "id": "8e1f37b2-0039-416b-9bbd-db47e724c061",
   "metadata": {},
   "outputs": [
    {
     "name": "stdout",
     "output_type": "stream",
     "text": [
      "survived         0\n",
      "pclass           3\n",
      "sex              0\n",
      "age              0\n",
      "sibsp            0\n",
      "parch            0\n",
      "fare             0\n",
      "embarked         2\n",
      "class            0\n",
      "who              0\n",
      "adult_male       0\n",
      "deck           688\n",
      "embark_town      0\n",
      "alive            0\n",
      "alone            0\n",
      "dtype: int64\n"
     ]
    }
   ],
   "source": [
    "print(df1.isnull().sum())"
   ]
  },
  {
   "cell_type": "code",
   "execution_count": 8,
   "id": "8337b41a-a0ad-4585-acf9-f469592cb155",
   "metadata": {},
   "outputs": [],
   "source": [
    "df2['age'] = df2['age'].fillna(df2['age'].median())"
   ]
  },
  {
   "cell_type": "code",
   "execution_count": 9,
   "id": "8b083dd2-0c22-41b8-a432-4c8214597919",
   "metadata": {},
   "outputs": [
    {
     "name": "stdout",
     "output_type": "stream",
     "text": [
      "survived         0\n",
      "pclass           3\n",
      "sex              0\n",
      "age              0\n",
      "sibsp            0\n",
      "parch            0\n",
      "fare             0\n",
      "embarked         2\n",
      "class            0\n",
      "who              0\n",
      "adult_male       0\n",
      "deck           688\n",
      "embark_town      0\n",
      "alive            0\n",
      "alone            0\n",
      "dtype: int64\n"
     ]
    }
   ],
   "source": [
    "print(df2.isnull().sum())"
   ]
  },
  {
   "cell_type": "markdown",
   "id": "90ced6e7-bfec-4c39-af68-3863ea114bd7",
   "metadata": {},
   "source": [
    "### Fill with mode/most common (for categories).\n",
    "\n"
   ]
  },
  {
   "cell_type": "code",
   "execution_count": 10,
   "id": "65a630b8-aaa4-47e0-ab85-c8ae8f1ae553",
   "metadata": {},
   "outputs": [],
   "source": [
    "df3['embarked'] = df3['embarked'].fillna(df3['embarked'].mode()[0])"
   ]
  },
  {
   "cell_type": "markdown",
   "id": "f0a97dc8-ea0d-4074-9439-9d79dc57b3ce",
   "metadata": {},
   "source": [
    "### Filling with a label like “Unknown”."
   ]
  },
  {
   "cell_type": "code",
   "execution_count": 11,
   "id": "cf737152-542f-4ea2-b65c-631c3159c35c",
   "metadata": {},
   "outputs": [],
   "source": [
    "df3['deck'] = df3['deck'].fillna(\"Unknown\")"
   ]
  },
  {
   "cell_type": "code",
   "execution_count": 12,
   "id": "c82e7977-eb9a-4101-9c6a-9fa2e4e36c20",
   "metadata": {},
   "outputs": [
    {
     "name": "stdout",
     "output_type": "stream",
     "text": [
      "survived       0\n",
      "pclass         3\n",
      "sex            0\n",
      "age            3\n",
      "sibsp          0\n",
      "parch          0\n",
      "fare           0\n",
      "embarked       0\n",
      "class          0\n",
      "who            0\n",
      "adult_male     0\n",
      "deck           0\n",
      "embark_town    0\n",
      "alive          0\n",
      "alone          0\n",
      "dtype: int64\n"
     ]
    }
   ],
   "source": [
    "print(df3.isnull().sum())"
   ]
  },
  {
   "cell_type": "code",
   "execution_count": null,
   "id": "5274638f-a70f-4b00-bbf3-61e3bb955b48",
   "metadata": {},
   "outputs": [],
   "source": []
  },
  {
   "cell_type": "markdown",
   "id": "7a0dff6f-d718-419b-a600-18e8eb5d72ff",
   "metadata": {},
   "source": [
    "# b) Consider Titanic (or any other dataset) & detect the outliers & handle the outerliers\n"
   ]
  },
  {
   "cell_type": "code",
   "execution_count": 13,
   "id": "1f5cbac1-293c-4c97-85d3-0b7199b88a9e",
   "metadata": {},
   "outputs": [],
   "source": [
    "import seaborn as sns\n",
    "import matplotlib.pyplot as plt"
   ]
  },
  {
   "cell_type": "markdown",
   "id": "84bec363-6851-4a92-ae30-9fac49b2f4d7",
   "metadata": {},
   "source": [
    "## Useing boxplot to see outliers.\n",
    "\n"
   ]
  },
  {
   "cell_type": "code",
   "execution_count": 14,
   "id": "a2ac5036-f2ce-4a5c-8d0f-d36dd3e63678",
   "metadata": {},
   "outputs": [
    {
     "data": {
      "image/png": "[encoded data removed]",
      "text/plain": [
       "<Figure size 640x480 with 1 Axes>"
      ]
     },
     "metadata": {},
     "output_type": "display_data"
    }
   ],
   "source": [
    "sns.boxplot(x=df['fare'])\n",
    "plt.show()"
   ]
  },
  {
   "cell_type": "markdown",
   "id": "822dd997-d45d-4e86-87f0-0b64a2434b68",
   "metadata": {},
   "source": [
    "## Useing Scatter plot to see outliers.\n",
    "\n"
   ]
  },
  {
   "cell_type": "code",
   "execution_count": 15,
   "id": "6fc797bb-1cb6-41aa-969d-eecf8bf28a7c",
   "metadata": {},
   "outputs": [
    {
     "data": {
      "image/png": "[encoded data removed]",
      "text/plain": [
       "<Figure size 640x480 with 1 Axes>"
      ]
     },
     "metadata": {},
     "output_type": "display_data"
    }
   ],
   "source": [
    "plt.scatter(df['age'], df['fare'])\n",
    "plt.xlabel('Age')\n",
    "plt.ylabel('Fare')\n",
    "plt.title(\"Scatter plot\")\n",
    "plt.show()"
   ]
  },
  {
   "cell_type": "markdown",
   "id": "fcc44d8e-c4bc-42aa-baf3-c4c4adba4090",
   "metadata": {},
   "source": [
    "## Use IQR to calculate range.\n",
    "\n"
   ]
  },
  {
   "cell_type": "code",
   "execution_count": 16,
   "id": "7d968190-dcc7-4656-b4a0-321120ba61c1",
   "metadata": {},
   "outputs": [],
   "source": [
    "Q1 = df['fare'].quantile(0.25)\n",
    "Q3 = df['fare'].quantile(0.75)\n",
    "IQR = Q3 - Q1"
   ]
  },
  {
   "cell_type": "code",
   "execution_count": 17,
   "id": "ef763cf1-f1bd-4227-b041-c475f8ca6541",
   "metadata": {},
   "outputs": [],
   "source": [
    "lower = Q1 - 1.5*IQR\n",
    "upper = Q3 + 1.5*IQR"
   ]
  },
  {
   "cell_type": "markdown",
   "id": "5c2125c7-b938-4fda-b3de-c02700459d2a",
   "metadata": {},
   "source": [
    "## Removing using IQR method."
   ]
  },
  {
   "cell_type": "code",
   "execution_count": 18,
   "id": "659769c4-1e08-4dc6-8e4b-88f4caa088e0",
   "metadata": {},
   "outputs": [
    {
     "name": "stdout",
     "output_type": "stream",
     "text": [
      "Outliers detected: 17\n"
     ]
    }
   ],
   "source": [
    "# Detect outliers\n",
    "outliers = df[(df['fare'] < lower) | (df['fare'] > upper)]\n",
    "print(\"Outliers detected:\", len(outliers))"
   ]
  },
  {
   "cell_type": "code",
   "execution_count": 19,
   "id": "d371795e-d30c-4f71-8803-9793d92be6c3",
   "metadata": {},
   "outputs": [
    {
     "name": "stdout",
     "output_type": "stream",
     "text": [
      "Index([ 27,  88, 118, 299, 311, 341, 377, 438, 527, 679, 689, 700, 716, 730,\n",
      "       737, 742, 779],\n",
      "      dtype='int64')\n"
     ]
    }
   ],
   "source": [
    "print(outliers.index)\n",
    "df = df.drop(outliers.index)"
   ]
  },
  {
   "cell_type": "code",
   "execution_count": 20,
   "id": "6f416243-373e-4d17-8337-26d03dc27615",
   "metadata": {},
   "outputs": [
    {
     "name": "stdout",
     "output_type": "stream",
     "text": [
      "Outliers detected: 0\n"
     ]
    }
   ],
   "source": [
    "outliers = df[(df['fare'] < lower) | (df['fare'] > upper)]\n",
    "print(\"Outliers detected:\", len(outliers))"
   ]
  },
  {
   "cell_type": "markdown",
   "id": "f7ecf1aa-d435-4adc-a830-aa64b835e3e3",
   "metadata": {},
   "source": [
    "## Replaceing using IQR method"
   ]
  },
  {
   "cell_type": "code",
   "execution_count": 21,
   "id": "630a4860-b30f-458b-a6f8-6a81d676c35f",
   "metadata": {},
   "outputs": [
    {
     "name": "stdout",
     "output_type": "stream",
     "text": [
      "Outliers detected: 20\n"
     ]
    },
    {
     "data": {
      "text/plain": [
       "Index([ 27,  88, 118, 258, 299, 311, 341, 377, 380, 438, 527, 557, 679, 689,\n",
       "       700, 716, 730, 737, 742, 779],\n",
       "      dtype='int64')"
      ]
     },
     "execution_count": 21,
     "metadata": {},
     "output_type": "execute_result"
    }
   ],
   "source": [
    "outliers = df2[(df2['fare'] < lower) | (df2['fare'] > upper)]\n",
    "print(\"Outliers detected:\", len(outliers))\n",
    "outliers.index"
   ]
  },
  {
   "cell_type": "code",
   "execution_count": 22,
   "id": "e763aa8c-4c42-4c8d-bdde-097c764fb23e",
   "metadata": {},
   "outputs": [],
   "source": [
    "df2['fare'] = df2['fare'].clip(lower, upper)"
   ]
  },
  {
   "cell_type": "code",
   "execution_count": 23,
   "id": "37629ee0-094b-4dfe-a9c8-68b291886ac8",
   "metadata": {},
   "outputs": [
    {
     "name": "stdout",
     "output_type": "stream",
     "text": [
      "Outliers detected: 0\n"
     ]
    }
   ],
   "source": [
    "outliers = df2[(df2['fare'] < lower) | (df2['fare'] > upper)]\n",
    "print(\"Outliers detected:\", len(outliers))"
   ]
  },
  {
   "cell_type": "markdown",
   "id": "0c12cd0d-c9b7-488b-9c99-3994081a9f04",
   "metadata": {},
   "source": [
    "## Replacing using Mean Median Mode"
   ]
  },
  {
   "cell_type": "code",
   "execution_count": 24,
   "id": "25be9829-4b5e-4c0c-b6f9-7d95a8ea29dd",
   "metadata": {},
   "outputs": [
    {
     "name": "stdout",
     "output_type": "stream",
     "text": [
      "Outliers detected: 20\n"
     ]
    },
    {
     "data": {
      "text/plain": [
       "Index([ 27,  88, 118, 258, 299, 311, 341, 377, 380, 438, 527, 557, 679, 689,\n",
       "       700, 716, 730, 737, 742, 779],\n",
       "      dtype='int64')"
      ]
     },
     "execution_count": 24,
     "metadata": {},
     "output_type": "execute_result"
    }
   ],
   "source": [
    "outliers = df3[(df3['fare'] < lower) | (df3['fare'] > upper)]\n",
    "print(\"Outliers detected:\", len(outliers))\n",
    "outliers.index"
   ]
  },
  {
   "cell_type": "code",
   "execution_count": 25,
   "id": "f422a16b-8e7e-4823-b20a-ebf53146950a",
   "metadata": {},
   "outputs": [
    {
     "name": "stdout",
     "output_type": "stream",
     "text": [
      "mean: 32\n"
     ]
    }
   ],
   "source": [
    "# m = np.mean(df3['age'])           # Using Numpy\n",
    "# m = df3['age'].median()           # Using Median \n",
    "# m = df3['embark_town'].mode()     # Mode is used for charecter\n",
    "m = int(df3['fare'].mean())         # Using Mean\n",
    "print('mean:', m)\n",
    "for i in df3['fare']:\n",
    "    if i < lower or i > upper:\n",
    "        df3['fare'] = df3['fare'].replace(i, m)"
   ]
  },
  {
   "cell_type": "code",
   "execution_count": 26,
   "id": "98c812e2-d477-4b1c-84fb-df35357bc266",
   "metadata": {},
   "outputs": [
    {
     "name": "stdout",
     "output_type": "stream",
     "text": [
      "Outliers detected: 0\n"
     ]
    }
   ],
   "source": [
    "outliers = df3[(df3['fare'] < lower) | (df3['fare'] > upper)]\n",
    "print(\"Outliers detected:\", len(outliers))"
   ]
  },
  {
   "cell_type": "code",
   "execution_count": null,
   "id": "2d2846d6-fd61-40b5-94e4-d484cc5b6eb8",
   "metadata": {},
   "outputs": [],
   "source": []
  },
  {
   "cell_type": "markdown",
   "id": "7dd36e7c-a98c-4a44-bc28-516e24c7e4fe",
   "metadata": {},
   "source": [
    "# c)Consider any relevant dataset and perform data transformation operations"
   ]
  },
  {
   "cell_type": "code",
   "execution_count": 27,
   "id": "9813298c-9035-4792-95a5-ecf8b65a1504",
   "metadata": {},
   "outputs": [],
   "source": [
    "from sklearn.preprocessing import StandardScaler, MinMaxScaler, LabelEncoder"
   ]
  },
  {
   "cell_type": "markdown",
   "id": "182ef485-c846-4d78-ad81-53665b10b303",
   "metadata": {},
   "source": [
    "### 1. Normalization (scale values between 0-1)"
   ]
  },
  {
   "cell_type": "code",
   "execution_count": 28,
   "id": "8c1196ff-a4e1-4b1f-8852-c3d666a2db63",
   "metadata": {
    "scrolled": true
   },
   "outputs": [],
   "source": [
    "df = df.copy()   # make df an independent DataFrame\n",
    "scaler = MinMaxScaler()\n",
    "df.loc[:, 'Fare_Normalized'] = scaler.fit_transform(df[['fare']])"
   ]
  },
  {
   "cell_type": "markdown",
   "id": "a0918740-fee9-4a03-a7ba-b1ea40dba88c",
   "metadata": {},
   "source": [
    "### 2. Standardization (mean=0, std=1)"
   ]
  },
  {
   "cell_type": "code",
   "execution_count": 29,
   "id": "9ad56799-ab93-4454-8399-839d46438146",
   "metadata": {
    "scrolled": true
   },
   "outputs": [],
   "source": [
    "scalerss = StandardScaler()\n",
    "df.loc[:, 'Age_Standardized'] = scalerss.fit_transform(df[['age']])"
   ]
  },
  {
   "cell_type": "markdown",
   "id": "d183502b-8ae8-4f2f-855c-7150923b7c6e",
   "metadata": {},
   "source": [
    "### 3. Encoding categorical variables"
   ]
  },
  {
   "cell_type": "code",
   "execution_count": 30,
   "id": "13df5eda-abdb-462e-b921-caf955719e1d",
   "metadata": {
    "scrolled": true
   },
   "outputs": [],
   "source": [
    "encoder = LabelEncoder()\n",
    "df.loc[:, 'Sex_Encoded'] = encoder.fit_transform(df['sex'])"
   ]
  },
  {
   "cell_type": "code",
   "execution_count": 31,
   "id": "e738e325-588b-4b90-822d-7beb3539ca8a",
   "metadata": {},
   "outputs": [
    {
     "name": "stdout",
     "output_type": "stream",
     "text": [
      "       fare  Fare_Normalized   age  Age_Standardized     sex  Sex_Encoded\n",
      "1   71.2833         0.432369  38.0          0.039698  female            0\n",
      "3   53.1000         0.322078  35.0         -0.153889  female            0\n",
      "6   51.8625         0.314572  54.0          1.072159    male            1\n",
      "10  16.7000         0.101294   4.0         -2.154283  female            0\n",
      "21  13.0000         0.078852  34.0         -0.218418    male            1\n"
     ]
    }
   ],
   "source": [
    "print(df[['fare', 'Fare_Normalized', 'age', 'Age_Standardized', 'sex', 'Sex_Encoded']].head())"
   ]
  },
  {
   "cell_type": "code",
   "execution_count": null,
   "id": "ff7acb5d-3a89-4247-80bb-35f39fa3ba94",
   "metadata": {},
   "outputs": [],
   "source": []
  },
  {
   "cell_type": "markdown",
   "id": "5db5961c-3a1d-4897-97c4-7ab2ac4f6b54",
   "metadata": {},
   "source": [
    "# d)Consider any relevant dataset and perform Data Integration operations"
   ]
  },
  {
   "cell_type": "code",
   "execution_count": 32,
   "id": "aa0e29a8-5bfc-44ac-8999-692c2b2c4d65",
   "metadata": {},
   "outputs": [],
   "source": [
    "# Passenger personal info\n",
    "passenger_info = pd.DataFrame({\n",
    "    'PassengerId': [1, 2, 3, 4],\n",
    "    'Name': ['John', 'Mary', 'Alex', 'Sophia'],\n",
    "    'Age': [22, 38, 26, 35],\n",
    "    'Sex': ['male', 'female', 'male', 'female']\n",
    "})\n",
    "\n",
    "# Ticket and fare info\n",
    "ticket_info = pd.DataFrame({\n",
    "    'PassengerId': [1, 2, 3, 4],\n",
    "    'Ticket': ['A/5 21171', 'PC 17599', 'STON/O2.3101282', '113803'],\n",
    "    'Fare': [7.25, 71.2833, 7.925, 53.1]\n",
    "})\n",
    "\n",
    "# Survival info\n",
    "survival_info = pd.DataFrame({\n",
    "    'PassengerId': [1, 2, 3, 4],\n",
    "    'Survived': [0, 1, 1, 1],\n",
    "    'Pclass': [3, 1, 3, 1]\n",
    "})\n"
   ]
  },
  {
   "cell_type": "markdown",
   "id": "03d83b6b-1e11-4186-b34b-17472255ef87",
   "metadata": {},
   "source": [
    "### We combine them based on a common key and it can only merge 2 DataFrames at a time"
   ]
  },
  {
   "cell_type": "code",
   "execution_count": 33,
   "id": "5c30eb37-afd6-433f-b98a-a8642fdfa880",
   "metadata": {},
   "outputs": [
    {
     "name": "stdout",
     "output_type": "stream",
     "text": [
      "   PassengerId    Name  Age     Sex           Ticket     Fare  Survived  \\\n",
      "0            1    John   22    male        A/5 21171   7.2500         0   \n",
      "1            2    Mary   38  female         PC 17599  71.2833         1   \n",
      "2            3    Alex   26    male  STON/O2.3101282   7.9250         1   \n",
      "3            4  Sophia   35  female           113803  53.1000         1   \n",
      "\n",
      "   Pclass  \n",
      "0       3  \n",
      "1       1  \n",
      "2       3  \n",
      "3       1  \n"
     ]
    }
   ],
   "source": [
    "merged1 = pd.merge(passenger_info, ticket_info, on=\"PassengerId\")\n",
    "\n",
    "titanic_full = pd.merge(merged1, survival_info, on=\"PassengerId\")\n",
    "\n",
    "print(titanic_full)"
   ]
  },
  {
   "cell_type": "markdown",
   "id": "f59d4de3-09ff-42f1-8933-c5d5f438fa71",
   "metadata": {},
   "source": [
    "### Put different datasets data together into one dataset."
   ]
  },
  {
   "cell_type": "code",
   "execution_count": 34,
   "id": "2fb3c16a-9965-4abd-852f-a7a1f94edf44",
   "metadata": {},
   "outputs": [
    {
     "name": "stdout",
     "output_type": "stream",
     "text": [
      "   PassengerId    Name   Age     Sex  Survived  Pclass\n",
      "0            1    John  22.0    male       NaN     NaN\n",
      "1            2    Mary  38.0  female       NaN     NaN\n",
      "2            3    Alex  26.0    male       NaN     NaN\n",
      "3            4  Sophia  35.0  female       NaN     NaN\n",
      "0            1     NaN   NaN     NaN       0.0     3.0\n",
      "1            2     NaN   NaN     NaN       1.0     1.0\n",
      "2            3     NaN   NaN     NaN       1.0     3.0\n",
      "3            4     NaN   NaN     NaN       1.0     1.0\n"
     ]
    }
   ],
   "source": [
    "titanic_combined = pd.concat([passenger_info, survival_info], axis=0)\n",
    "print(titanic_combined)"
   ]
  },
  {
   "cell_type": "markdown",
   "id": "ee596a0e-8fba-4fd9-978b-14e70bcd47f1",
   "metadata": {},
   "source": [
    "### Adding New Attribute(Column)"
   ]
  },
  {
   "cell_type": "code",
   "execution_count": 35,
   "id": "a909580f-16fe-45f8-a183-d08866f6ab00",
   "metadata": {},
   "outputs": [
    {
     "data": {
      "text/html": [
       "<div>\n",
       "<style scoped>\n",
       "    .dataframe tbody tr th:only-of-type {\n",
       "        vertical-align: middle;\n",
       "    }\n",
       "\n",
       "    .dataframe tbody tr th {\n",
       "        vertical-align: top;\n",
       "    }\n",
       "\n",
       "    .dataframe thead th {\n",
       "        text-align: right;\n",
       "    }\n",
       "</style>\n",
       "<table border=\"1\" class=\"dataframe\">\n",
       "  <thead>\n",
       "    <tr style=\"text-align: right;\">\n",
       "      <th></th>\n",
       "      <th>PassengerId</th>\n",
       "      <th>Name</th>\n",
       "      <th>Age</th>\n",
       "      <th>Sex</th>\n",
       "      <th>Ticket</th>\n",
       "      <th>Fare</th>\n",
       "      <th>Survived</th>\n",
       "      <th>Pclass</th>\n",
       "      <th>NewFare</th>\n",
       "    </tr>\n",
       "  </thead>\n",
       "  <tbody>\n",
       "    <tr>\n",
       "      <th>0</th>\n",
       "      <td>1</td>\n",
       "      <td>John</td>\n",
       "      <td>22</td>\n",
       "      <td>male</td>\n",
       "      <td>A/5 21171</td>\n",
       "      <td>7.2500</td>\n",
       "      <td>0</td>\n",
       "      <td>3</td>\n",
       "      <td>17.2500</td>\n",
       "    </tr>\n",
       "    <tr>\n",
       "      <th>1</th>\n",
       "      <td>2</td>\n",
       "      <td>Mary</td>\n",
       "      <td>38</td>\n",
       "      <td>female</td>\n",
       "      <td>PC 17599</td>\n",
       "      <td>71.2833</td>\n",
       "      <td>1</td>\n",
       "      <td>1</td>\n",
       "      <td>81.2833</td>\n",
       "    </tr>\n",
       "    <tr>\n",
       "      <th>2</th>\n",
       "      <td>3</td>\n",
       "      <td>Alex</td>\n",
       "      <td>26</td>\n",
       "      <td>male</td>\n",
       "      <td>STON/O2.3101282</td>\n",
       "      <td>7.9250</td>\n",
       "      <td>1</td>\n",
       "      <td>3</td>\n",
       "      <td>17.9250</td>\n",
       "    </tr>\n",
       "    <tr>\n",
       "      <th>3</th>\n",
       "      <td>4</td>\n",
       "      <td>Sophia</td>\n",
       "      <td>35</td>\n",
       "      <td>female</td>\n",
       "      <td>113803</td>\n",
       "      <td>53.1000</td>\n",
       "      <td>1</td>\n",
       "      <td>1</td>\n",
       "      <td>63.1000</td>\n",
       "    </tr>\n",
       "  </tbody>\n",
       "</table>\n",
       "</div>"
      ],
      "text/plain": [
       "   PassengerId    Name  Age     Sex           Ticket     Fare  Survived  \\\n",
       "0            1    John   22    male        A/5 21171   7.2500         0   \n",
       "1            2    Mary   38  female         PC 17599  71.2833         1   \n",
       "2            3    Alex   26    male  STON/O2.3101282   7.9250         1   \n",
       "3            4  Sophia   35  female           113803  53.1000         1   \n",
       "\n",
       "   Pclass  NewFare  \n",
       "0       3  17.2500  \n",
       "1       1  81.2833  \n",
       "2       3  17.9250  \n",
       "3       1  63.1000  "
      ]
     },
     "execution_count": 35,
     "metadata": {},
     "output_type": "execute_result"
    }
   ],
   "source": [
    "titanic_full['NewFare'] = titanic_full['Fare'] + 10\n",
    "titanic_full"
   ]
  },
  {
   "cell_type": "markdown",
   "id": "50f75c8b-c1d3-4150-a2ff-0e064d294c47",
   "metadata": {},
   "source": [
    "### Adding new Object(Row)"
   ]
  },
  {
   "cell_type": "code",
   "execution_count": 36,
   "id": "8aa64a31-2bc0-427f-8a8f-a03a66b6cacb",
   "metadata": {},
   "outputs": [
    {
     "name": "stdout",
     "output_type": "stream",
     "text": [
      "   PassengerId    Name  Age     Sex           Ticket     Fare  Survived  \\\n",
      "0            1    John   22    male        A/5 21171   7.2500         0   \n",
      "1            2    Mary   38  female         PC 17599  71.2833         1   \n",
      "2            3    Alex   26    male  STON/O2.3101282   7.9250         1   \n",
      "3            4  Sophia   35  female           113803  53.1000         1   \n",
      "4            5   Luffy   19    male               56  10.0000         1   \n",
      "\n",
      "   Pclass  NewFare  \n",
      "0       3  17.2500  \n",
      "1       1  81.2833  \n",
      "2       3  17.9250  \n",
      "3       1  63.1000  \n",
      "4       1  20.0000  \n"
     ]
    }
   ],
   "source": [
    "titanic_full.loc[len(titanic_full.index)] = [5,'Luffy',19,'male','56',10,1,1,20]\n",
    "print(titanic_full)"
   ]
  }
 ],
 "metadata": {
  "kernelspec": {
   "display_name": "Python 3 (ipykernel)",
   "language": "python",
   "name": "python3"
  },
  "language_info": {
   "codemirror_mode": {
    "name": "ipython",
    "version": 3
   },
   "file_extension": ".py",
   "mimetype": "text/x-python",
   "name": "python",
   "nbconvert_exporter": "python",
   "pygments_lexer": "ipython3",
   "version": "3.13.7"
  },
  "widgets": {
   "application/vnd.jupyter.widget-state+json": {
    "state": {},
    "version_major": 2,
    "version_minor": 0
   }
  }
 },
 "nbformat": 4,
 "nbformat_minor": 5
}
