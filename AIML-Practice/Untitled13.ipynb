{
 "cells": [
  {
   "cell_type": "code",
   "execution_count": null,
   "id": "9b74e932-0100-4104-b3b3-6a5f4479d292",
   "metadata": {},
   "outputs": [],
   "source": []
  }
 ],
 "metadata": {
  "kernelspec": {
   "display_name": "",
   "name": ""
  },
  "language_info": {
   "name": ""
  }
 },
 "nbformat": 4,
 "nbformat_minor": 5
}
